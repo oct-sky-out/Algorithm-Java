{
 "cells": [
  {
   "cell_type": "code",
   "execution_count": 53,
   "metadata": {
    "vscode": {
     "languageId": "java"
    }
   },
   "outputs": [
    {
     "name": "stdout",
     "output_type": "stream",
     "text": [
      "[3, 3]\n",
      "[0, 0]\n",
      "[1, 3]\n"
     ]
    }
   ],
   "source": [
    "import java.util.Arrays;\n",
    "import java.util.List;\n",
    "import java.util.ArrayList;\n",
    "import java.util.Map;\n",
    "import java.util.HashMap;\n",
    "import java.util.stream.Collectors;\n",
    "import java.util.Objects;\n",
    "\n",
    "/**\n",
    " * 문제 카테고리 : String\n",
    " * 프로그래머스 영어 끝말잇기 문제 : https://school.programmers.co.kr/learn/courses/30/lessons/12981\n",
    " */\n",
    "class Solution {\n",
    "    public int[] solution(int n, String[] words) {\n",
    "        // n = 사람 수, words = 단어의 순열\n",
    "        int[] answer = {};\n",
    "        Map<String, Integer> memorizedWords = new HashMap<>();\n",
    "        // 조건 1 - 이전에 나왔던 단어가 다시 나오면 안됨.\n",
    "        // 조건 2 - 앞 단어의 가장 마지막단어와 이어져야함.\n",
    "        // 조건 3 - 탈락자가 없으면 [0,0]을 리턴해야함.\n",
    "\n",
    "        for(int i = 0; i < words.length; i++) {\n",
    "            if(i == 0) {\n",
    "                memorizedWords.put(words[i], 1);\n",
    "                continue;\n",
    "            }\n",
    "\n",
    "            String lastWord = words[i - 1];\n",
    "            String currentWord = words[i];\n",
    "\n",
    "            if(Objects.isNull(memorizedWords.get(words[i])) && isMatchLastWord(lastWord, currentWord)) {\n",
    "                memorizedWords.put(words[i], 1);\n",
    "            } else {\n",
    "              int num = (i%n) + 1;\n",
    "              int turn = (int) Math.ceil((double) (i + 1)/n);\n",
    "              \n",
    "              return new int[] {num, turn};\n",
    "            }\n",
    "        }\n",
    "        return new int[] {0, 0};\n",
    "    }\n",
    "\n",
    "    private boolean isMatchLastWord(String lastWord, String currentWord) {\n",
    "      String lastChar = lastWord.substring(lastWord.length() - 1, lastWord.length());\n",
    "      String firstChar = currentWord.substring(0, 1);\n",
    "\n",
    "      if(Objects.equals(lastChar, firstChar)) {\n",
    "        return true;\n",
    "      }\n",
    "      return false;\n",
    "    }\n",
    "}\n",
    "\n",
    "Solution sol = new Solution();\n",
    "String[] case1 = {\"tank\", \"kick\", \"know\", \"wheel\", \"land\", \"dream\", \"mother\", \"robot\", \"tank\"};\n",
    "String[] case2 = {\"hello\", \"observe\", \"effect\", \"take\", \"either\", \"recognize\", \"encourage\", \"ensure\", \"establish\", \"hang\", \"gather\", \"refer\", \"reference\", \"estimate\", \"executive\"};\n",
    "String[] case3 = {\"hello\", \"one\", \"even\", \"never\", \"now\", \"world\", \"draw\"};\n",
    "\n",
    "int[] res1 = sol.solution(3, case1);\n",
    "int[] res2 = sol.solution(5, case2);\n",
    "int[] res3 = sol.solution(2, case3);\n",
    "\n",
    "System.out.println(\"[\" + res1[0] + \", \" + res1[1] + \"]\"); // [3,3]\n",
    "System.out.println(\"[\" + res2[0] + \", \" + res2[1] + \"]\"); // [0,0]\n",
    "System.out.println(\"[\" + res3[0] + \", \" + res3[1] + \"]\"); // [1,3]"
   ]
  }
 ],
 "metadata": {
  "kernelspec": {
   "display_name": "Java",
   "language": "java",
   "name": "java"
  },
  "language_info": {
   "codemirror_mode": "java",
   "file_extension": ".jshell",
   "mimetype": "text/x-java-source",
   "name": "Java",
   "pygments_lexer": "java",
   "version": "11.0.14.1+1"
  },
  "orig_nbformat": 4
 },
 "nbformat": 4,
 "nbformat_minor": 2
}
