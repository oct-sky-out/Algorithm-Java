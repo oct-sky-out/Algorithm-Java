{
 "cells": [
  {
   "cell_type": "code",
   "execution_count": 186,
   "metadata": {},
   "outputs": [
    {
     "name": "stdout",
     "output_type": "stream",
     "text": [
      "[2, 1, 3, 4]\n",
      "[2, 1, 3, 4]\n",
      "[111, 20]\n",
      "[123]\n",
      "[3, 2, 4, 1]\n",
      "[123, 1, 2, 345]\n"
     ]
    }
   ],
   "source": [
    "import java.util.Objects;\n",
    "import java.util.LinkedHashSet;\n",
    "import java.util.stream.Collectors;\n",
    "import java.util.stream.Stream;\n",
    "\n",
    "/**\n",
    " * 문제 카테고리 : String\n",
    " * 프로그래머스 튜플 문제 : https://school.programmers.co.kr/learn/courses/30/lessons/64065\n",
    " */\n",
    "class Solution {\n",
    "    public Set<Integer> solution(String s) {\n",
    "        return Stream.of(Stream.of(s.split(\"([{}])+,{0,1}\"))\n",
    "                        .filter(str -> !str.isBlank())\n",
    "                        .sorted((s1, s2) -> s1.length() >= s2.length() ? 1 : -1)\n",
    "                        .reduce(\"\", (s1, s2) -> s1 + s2 + \",\")\n",
    "                        .split(\",\"))\n",
    "                    .filter(str -> !str.isBlank())\n",
    "                    .map(Integer::parseInt)\n",
    "                    .collect(Collectors.toCollection(LinkedHashSet::new));\n",
    "    }\n",
    "}\n",
    "\n",
    "\n",
    "Solution sol = new Solution();\n",
    "System.out.println(sol.solution(\"{{2},{2,1},{2,1,3},{2,1,3,4}}\")); // [2, 1, 3, 4]\n",
    "System.out.println(sol.solution(\"{{1,2,3},{2,1},{1,2,4,3},{2}}\")); // [2, 1, 3, 4]\n",
    "System.out.println(sol.solution(\"{{20,111},{111}}\")); // [111, 20]\n",
    "System.out.println(sol.solution(\"{{123}}\")); // [123]\n",
    "System.out.println(sol.solution(\"{{4,2,3},{3},{2,3,4,1},{2,3}}\")); // [3, 2, 4, 1]\n",
    "System.out.println(sol.solution(\"{{123}, {1,123}, {1,2,123}, {345,123,2,1}}\")); // [123, 1, 2, 345]\n"
   ]
  }
 ],
 "metadata": {
  "kernelspec": {
   "display_name": "Java",
   "language": "java",
   "name": "java"
  },
  "language_info": {
   "name": "java"
  },
  "orig_nbformat": 4
 },
 "nbformat": 4,
 "nbformat_minor": 2
}
