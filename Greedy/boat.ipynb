{
 "cells": [
  {
   "cell_type": "code",
   "execution_count": 86,
   "metadata": {
    "vscode": {
     "languageId": "java"
    }
   },
   "outputs": [
    {
     "name": "stdout",
     "output_type": "stream",
     "text": [
      "[40, 45, 50, 70, 77, 80]\n",
      "[45, 50, 70, 77]\n",
      "[45, 50, 70]\n",
      "[50]\n",
      "4\n"
     ]
    }
   ],
   "source": [
    "import java.util.Arrays;\n",
    "import java.util.List;\n",
    "import java.util.stream.Collectors;\n",
    "import java.util.Objects;\n",
    "\n",
    "/**\n",
    " * 프로그래머스 문제 : \n",
    " */\n",
    "class Solution {\n",
    "    public int solution(int[] people, int limit) {\n",
    "        int answer = 0;\n",
    "        Deque<Integer> peopleList = Arrays.stream(people)\n",
    "            .sorted()\n",
    "            .boxed()\n",
    "            .collect(Collectors.toCollection(ArrayDeque::new));\n",
    "\n",
    "        while(!peopleList.isEmpty()) {\n",
    "            if(limit >= peopleList.getLast() + peopleList.getFirst() && !(peopleList.size() == 1)) {\n",
    "                System.out.println(peopleList);\n",
    "                peopleList.removeLast();\n",
    "                peopleList.removeFirst();\n",
    "            } else {\n",
    "                System.out.println(peopleList);\n",
    "                peopleList.removeLast();\n",
    "            }\n",
    "            answer++;\n",
    "        }\n",
    "\n",
    "        return answer;\n",
    "    }\n",
    "}\n",
    "\n",
    "Solution sol = new Solution();\n",
    "int[] ints = {70, 80, 50, 77, 45, 40};\n",
    "\n",
    "System.out.println(sol.solution(ints, 120));"
   ]
  }
 ],
 "metadata": {
  "kernelspec": {
   "display_name": "Java",
   "language": "java",
   "name": "java"
  },
  "language_info": {
   "codemirror_mode": "java",
   "file_extension": ".jshell",
   "mimetype": "text/x-java-source",
   "name": "Java",
   "pygments_lexer": "java",
   "version": "11.0.14.1+1"
  },
  "orig_nbformat": 4,
  "vscode": {
   "interpreter": {
    "hash": "3067ead486e059ec00ffe7555bdb889e6e264a24dc711bf108106cc7baee8d5d"
   }
  }
 },
 "nbformat": 4,
 "nbformat_minor": 2
}
